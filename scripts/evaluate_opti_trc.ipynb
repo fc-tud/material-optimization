{
 "cells": [
  {
   "cell_type": "code",
   "execution_count": null,
   "id": "17b211ff-37df-4488-9890-da7179b9d24e",
   "metadata": {},
   "outputs": [],
   "source": [
    "import sys\n",
    "sys.path.append('..')\n",
    "import src\n",
    "from src.optimization.result import Evaluation_Base, Evaluation, split_dataframe\n",
    "import importlib\n",
    "importlib.reload(src.optimization.result)\n",
    "from src.models.sim_trc.SimTRC import SimTRC\n",
    "from src.models.helpers.data_handling import is_pareto_efficient\n",
    "\n",
    "import os\n",
    "import pandas as pd\n",
    "import numpy as np\n",
    "import re\n",
    "import matplotlib.pyplot as plt\n",
    "import pickle\n",
    "#\n",
    "import matplotlib.pyplot as plt\n",
    "import plotly.graph_objects as go\n",
    "plt.rc('axes', axisbelow=True) # grid in background"
   ]
  },
  {
   "cell_type": "code",
   "execution_count": null,
   "id": "ee9cc850-49a7-433e-af13-78b4d21b3a28",
   "metadata": {},
   "outputs": [],
   "source": [
    "WORKDIR = '../zih_workdir/optimization'\n",
    "USE_CASE = 'SIM-TRC'\n",
    "PLOT_DIR = os.path.join('..', 'zih_workdir' ,'plots')\n",
    "sim=SimTRC(None, 'SimTRC')\n",
    "ML_MODEL = 'CatBoost'\n",
    "TASK_LIST = ['area', 'f-res']\n",
    "OPTI = 'f-res'\n",
    "PARETO = 'ascending'\n",
    "step_list = [100,500,1000,5000,10000]"
   ]
  },
  {
   "cell_type": "markdown",
   "id": "5c2eb15f-b4a0-44e5-8ad6-3d41fdf67f3d",
   "metadata": {},
   "source": [
    "## Load all optimisation results"
   ]
  },
  {
   "cell_type": "code",
   "execution_count": null,
   "id": "1aa56dfd-2de5-4efe-b82a-40d24a8602d1",
   "metadata": {},
   "outputs": [],
   "source": [
    "eval_base = Evaluation_Base(WORKDIR, USE_CASE, TASK_LIST)"
   ]
  },
  {
   "cell_type": "code",
   "execution_count": null,
   "id": "283bc4fd-788c-4f00-a8d8-4bbfe9b8b9ef",
   "metadata": {
    "scrolled": true
   },
   "outputs": [],
   "source": [
    "eval_base.get_results()\n",
    "#eval_base.get_steps_opti_results(step_list, ['autosklearn', 'CatBoost'])"
   ]
  },
  {
   "cell_type": "code",
   "execution_count": null,
   "id": "7f888f2e-ac40-418b-adba-926cef98278c",
   "metadata": {},
   "outputs": [],
   "source": [
    "eval_base.get_all_optima()\n",
    "eval_base.load_database(ML_MODEL)\n",
    "eval_base.rename_opti_cols(sim.space, y_dict = {'con_0':'con_area', 'model_output_0': 'model_output_f-res'})"
   ]
  },
  {
   "cell_type": "code",
   "execution_count": null,
   "id": "1d9e5ebc-6af4-45e8-9250-02b9543508db",
   "metadata": {},
   "outputs": [],
   "source": [
    "eval_base.database.rename(columns={'f_res': 'f-res', 'f_beam': 'f-beam'}, inplace=True)"
   ]
  },
  {
   "cell_type": "code",
   "execution_count": null,
   "id": "794c72d0-ff6c-42bd-9229-cdfb55866d79",
   "metadata": {},
   "outputs": [],
   "source": [
    "eval_base.df_opti = eval_base.df_opti.sort_values(by=['model_name', 'optimizer_name', 'max_opt_iter']).reset_index()\n",
    "eval_base.df_opti[['model_name', 'optimizer_name', 'max_opt_iter']].drop_duplicates()"
   ]
  },
  {
   "cell_type": "markdown",
   "id": "ea3043e0-1e22-4025-b8c1-4c931d515932",
   "metadata": {},
   "source": [
    "#### SIM-TRC spceific code"
   ]
  },
  {
   "cell_type": "code",
   "execution_count": null,
   "id": "bd066691-8c20-432f-899d-483f1113b2ec",
   "metadata": {},
   "outputs": [],
   "source": [
    "# load sim-trc db\n",
    "sim_trc_db = pd.read_csv(os.path.join('..', 'results', 'database', 'SIM-TRC', 'all_runs.csv'), index_col=0)\n",
    "sim_trc_db.rename(columns={'f_res': f'sim_output_{OPTI}'}, inplace=True)\n",
    "sim_trc_db['con_area'] = sim_trc_db[sim.X_cols].apply(lambda row: sim.area_from_dim(row), axis=1)\n",
    "# append sim results to ml model preds\n",
    "temp_df = eval_base.df_opti[sim.X_cols].copy()\n",
    "temp_df = temp_df.apply(lambda row: pd.Series(sim.adjust_y_dimension(row.tolist()), index=temp_df.columns), axis=1)\n",
    "merged_df = pd.merge(temp_df, sim_trc_db[sim.X_cols + [f'sim_output_{OPTI}'] ], on=sim.X_cols, how='left')\n",
    "eval_base.df_opti[f'sim_output_{OPTI}'] = merged_df[f'sim_output_{OPTI}']\n",
    "# add sim db as optimal results of SIM-TRC\n",
    "pareto_optimal_indices = is_pareto_efficient(np.array(sim_trc_db[[f'sim_output_{OPTI}', 'con_area']]), direction=[-1,1])\n",
    "pareto_designs_sim = sim_trc_db[pareto_optimal_indices].copy()\n",
    "pareto_designs_sim['model_name'] = 'SimTRC'\n",
    "pareto_designs_sim['max_opt_iter'] = 200\n",
    "pareto_designs_sim['optimizer_class'] = 'scipy' \n",
    "pareto_designs_sim['optimizer_name'] = 'bayes'\n",
    "pareto_designs_sim['con_f-res'] = 'opti'\n",
    "pareto_designs_sim[f'model_output_{OPTI}'] = pareto_designs_sim[f'sim_output_{OPTI}']\n",
    "# Concatenate to eval.df_opti\n",
    "eval_base.df_opti = pd.concat([eval_base.df_opti, pareto_designs_sim[pareto_designs_sim.columns.intersection(eval_base.df_opti.columns)]], \n",
    "                               axis=0, ignore_index=True)\n",
    "# pareto_designs_sim.sort_values(by=['area'])"
   ]
  },
  {
   "cell_type": "markdown",
   "id": "8102cb95-0d80-424e-b58a-49ee59859fff",
   "metadata": {},
   "source": [
    "## Evaluate a specific task"
   ]
  },
  {
   "cell_type": "code",
   "execution_count": null,
   "id": "66f42e88-dabf-4759-a014-24afe64bc644",
   "metadata": {},
   "outputs": [],
   "source": [
    "import importlib\n",
    "importlib.reload(src.optimization.result)\n",
    "from src.optimization.result import Evaluation_Base, Evaluation"
   ]
  },
  {
   "cell_type": "code",
   "execution_count": null,
   "id": "3bbbc5cc-1013-43ee-b2f3-a43f2e67aa23",
   "metadata": {},
   "outputs": [],
   "source": [
    "eval_base.df_opti['con_f-res'] = 'opti'\n",
    "task_constrains = {'con_f-res':'opti'}\n",
    "#opti_constrains = {'model_name': 'SimPAN'}\n",
    "#opti_dict = {'database':'grey', 'TPDE': '#6c65b5', 'NoisyDE': '#62cfac'}"
   ]
  },
  {
   "cell_type": "code",
   "execution_count": null,
   "id": "19fdc38b-fdf9-4157-9c37-fd6086a2fc8e",
   "metadata": {},
   "outputs": [],
   "source": [
    "eval = Evaluation(eval_base, task_constrains=task_constrains, opti_constrains=None, pareto_ascending=True)\n",
    "eval.get_optimisation_task()"
   ]
  },
  {
   "cell_type": "markdown",
   "id": "58504837-8ac4-4152-bc77-491c2b91d6bd",
   "metadata": {},
   "source": [
    "### Comparison Optimizers"
   ]
  },
  {
   "cell_type": "code",
   "execution_count": null,
   "id": "d7dd7787-d4f5-46b3-89e7-e229d152a6ad",
   "metadata": {},
   "outputs": [],
   "source": [
    "eval.group_results(['model_name', 'optimizer_name', 'max_opt_iter'])\n",
    "eval.get_opti_datapoints()\n",
    "eval.calc_cum_max_optimizer(cols=['y'])\n",
    "eval.calc_normalized_score(sim='task', cols=['y'])"
   ]
  },
  {
   "cell_type": "code",
   "execution_count": null,
   "id": "8bb27d9b-64b1-47ca-8390-e7982f7869ed",
   "metadata": {},
   "outputs": [],
   "source": [
    "TARGET =  f'normed_opti_y'\n",
    "iter_list = step_list #+ [20000]\n",
    "MODEL = 'autosklearn'\n",
    "\n",
    "eval.calc_opti_score(cols=['y'], con_col='con_area', models=[MODEL])\n",
    "\n",
    "df_plot = pd.DataFrame()\n",
    "for optimizer in ['CMA', 'DE', 'PSO', 'RandomSearch']:\n",
    "    df_opt = pd.DataFrame()\n",
    "    for iter in iter_list:\n",
    "        df = eval.get_df(model_substrings = [MODEL], optimizer_substrings = [optimizer], max_iters = [iter])\n",
    "        if not df.empty:\n",
    "            df_opt[f'{iter}'] = df[TARGET].values\n",
    "    if not df_opt.empty:\n",
    "        df_opt['optimizer_name'] = optimizer   \n",
    "        df_plot = pd.concat([df_plot, df_opt], axis = 0, ignore_index=True)"
   ]
  },
  {
   "cell_type": "code",
   "execution_count": null,
   "id": "26f5249a-fb5e-49cd-9b52-10b74c4c88b0",
   "metadata": {},
   "outputs": [],
   "source": [
    "df = eval.get_df(model_substrings = ['autosklearn'], optimizer_substrings = ['CMA'],max_iters = [20000])\n",
    "df.loc[df['normed_opti_y']!=1]"
   ]
  },
  {
   "cell_type": "code",
   "execution_count": null,
   "id": "78bb1185-68d4-4cf3-ae47-80ac26fdda37",
   "metadata": {},
   "outputs": [],
   "source": [
    "color_dict = {'10000':'#0d0887', '5000': '#7201a8', '1000': '#bd3786', '500':'#ed7953', '100': '#f5bc05'}\n",
    "fig_bar = eval.plot_summarize(df=df_plot, targets=[str(num) for num in iter_list] , group='optimizer_name', plot_dict=color_dict, print_error=False)\n",
    "fig_bar.update_layout(width=500, height=500)\n",
    "fig_bar.update_layout(yaxis_range=[0.3,1.05])\n",
    "fig_bar.write_image(os.path.join(PLOT_DIR, f\"box_plot_optimizers{USE_CASE}_{MODEL}.pdf\"))\n",
    "fig_bar.show()"
   ]
  },
  {
   "cell_type": "markdown",
   "id": "b9101d55-2dbf-4b5a-961b-d82c6baac0f7",
   "metadata": {},
   "source": [
    "### Compare Models"
   ]
  },
  {
   "cell_type": "code",
   "execution_count": null,
   "id": "36067bcd-930e-460c-b5fd-a4998f8636f7",
   "metadata": {},
   "outputs": [],
   "source": [
    "eval.group_results(['model_name', 'optimizer_name'])\n",
    "eval.get_opti_datapoints()\n",
    "eval.calc_error(task='task', exclude=['area'])\n",
    "\n",
    "eval.calc_cum_max_optimizer(cols=[f'model_output_{eval.opti_traget}', f'sim_output_{eval.opti_traget}'])\n",
    "eval.calc_normalized_score(sim='task')"
   ]
  },
  {
   "cell_type": "code",
   "execution_count": null,
   "id": "03ee5611-982a-49bb-8fa4-350dd6b7bc4f",
   "metadata": {},
   "outputs": [],
   "source": [
    "#df_ml = eval.get_df(optimizer_substrings = ['DE'])\n",
    "#df_plot= eval.get_df()\n",
    "df_ml_models = eval.get_df(model_substrings = ['FFNN_mtl'], optimizer_substrings = ['CMA'])\n",
    "df_sim = eval.get_df(model_substrings = ['Sim'])\n",
    "df_data = eval.get_df(model_substrings = ['data'])\n",
    "df_plot = pd.concat([df_ml_models, df_sim, df_data], axis=0, ignore_index=True)"
   ]
  },
  {
   "cell_type": "code",
   "execution_count": null,
   "id": "b0bac264-f297-4a79-8179-d8476e2af530",
   "metadata": {},
   "outputs": [],
   "source": [
    "%%capture\n",
    "#%matplotlib widget\n",
    "color_dict = {'database':'grey', 'CatBoost': '#6c65b5', 'autosklearn': '#62cfac', 'XGBoost':'#db7707', 'FFNN_mtl':'#91261A', 'SimTRC': '#00305e'}\n",
    "fig = eval.plot_2d_pareto(df_plot, x='con_area', y_list=['cummax_sim_output_f-res'], label='model_name', color_dict = color_dict)"
   ]
  },
  {
   "cell_type": "code",
   "execution_count": null,
   "id": "07951f85-c7e4-477f-9238-47abcfb0e9af",
   "metadata": {},
   "outputs": [],
   "source": [
    "from IPython.display import display\n",
    "ax = fig.get_axes()[0]\n",
    "#ax.axhline(y=eval.base.database.sigma.max(), color='grey', linestyle='--', alpha=0.1)\n",
    "#ax.axvline(x=eval.base.database.q.max(), color='grey', linestyle='--', alpha=0.1)\n",
    "ax.set(ylabel='Maximum Load Capacity [kN]')\n",
    "ax.set(xlabel='Area [mm²]', xlim=(7, 80))\n",
    "ax.legend(loc='upper center', bbox_to_anchor=(0.5, 1.15), ncol=3)\n",
    "#fig.savefig(os.path.join(PLOT_DIR, f'pareto_front_{USE_CASE}_sim.pdf'), bbox_inches='tight')\n",
    "display(fig)"
   ]
  },
  {
   "cell_type": "code",
   "execution_count": null,
   "id": "9b08e48b-556b-4393-b78a-3cea8abcb603",
   "metadata": {},
   "outputs": [],
   "source": [
    "df_ml_models = df_ml_models.fillna(0)\n",
    "df_ml_models = df_ml_models.loc[(df_ml_models['con_area']>=7)&(df_ml_models['con_area']<=80)]\n",
    "\n",
    "custom_order = ['autosklearn', 'CatBoost', 'XGBoost', 'FFNN_mtl']\n",
    "df_ml_models.sort_values(by=\"model_name\", key=lambda column: column.map(lambda e: custom_order.index(e)), inplace=True)\n",
    "\n",
    "\n",
    "fig_bar = eval.plot_summarize(df_ml_models, print_error=True)\n",
    "fig_bar.update_layout(width=550, height=700)\n",
    "fig_bar.update_layout(yaxis_range=[-3.05,3.05])\n",
    "fig_bar.update_layout(yaxis = dict(dtick = 0.25))\n",
    "fig_bar.write_image(os.path.join(PLOT_DIR, f\"box_plot_sim-model_{USE_CASE}.pdf\"))\n",
    "fig_bar.show()"
   ]
  },
  {
   "cell_type": "code",
   "execution_count": null,
   "id": "c208b2e8-a0fb-4b45-8754-f26d18d56cdf",
   "metadata": {},
   "outputs": [],
   "source": [
    "eval.scores"
   ]
  },
  {
   "cell_type": "markdown",
   "id": "96f3a5fc-72ae-4522-bb6b-dd5cd872220c",
   "metadata": {},
   "source": [
    "## Save optimal designs for validation"
   ]
  },
  {
   "cell_type": "code",
   "execution_count": null,
   "id": "bbae4312-08f0-4bf9-abf2-52f3e61ca5f7",
   "metadata": {},
   "outputs": [],
   "source": [
    "df_val_sim = df_plot[sim.X_cols].loc[df_plot.model_name.isin(['autosklearn', 'CatBoost', 'XGBoost', 'FFNN_mtl'])]\n",
    "df_val_sim = df_val_sim.drop_duplicates()"
   ]
  },
  {
   "cell_type": "code",
   "execution_count": null,
   "id": "e76fff89-8019-4953-a333-5f19bd896c42",
   "metadata": {},
   "outputs": [],
   "source": [
    "sub_dataframes = split_dataframe(df_val_sim, 2)\n",
    "# Printing sub DataFrames\n",
    "for i, sub_df in enumerate(sub_dataframes):\n",
    "    print(f\"Sub DataFrame {i + 1}\")\n",
    "    # print(sub_df)\n",
    "    list_val_sim = sub_df.values.tolist()\n",
    "    np.savetxt(os.path.join(WORKDIR, USE_CASE, f'sim_val_{i}.txt'), list_val_sim, fmt='%s', delimiter=';')\n",
    "    # print()"
   ]
  },
  {
   "cell_type": "code",
   "execution_count": null,
   "id": "0eee76a3-fe7e-4e88-ae98-bed7bd00517e",
   "metadata": {},
   "outputs": [],
   "source": [
    "# Printing sub DataFrames\n",
    "for i, sub_df in enumerate(sub_dataframes):\n",
    "    loaded_data = np.loadtxt(os.path.join(WORKDIR, USE_CASE, f'sim_val_{i}.txt'), dtype=str, delimiter=';')\n",
    "    nested_list = [[int(float(value)) for value in row] for row in loaded_data]\n",
    "    print('Length:',len(nested_list))\n",
    "    print(nested_list)"
   ]
  },
  {
   "cell_type": "code",
   "execution_count": null,
   "id": "e3fe7aee-c68f-4e96-b7e2-3893e18ce9a2",
   "metadata": {},
   "outputs": [],
   "source": []
  }
 ],
 "metadata": {
  "kernelspec": {
   "display_name": "Python 3 (ipykernel)",
   "language": "python",
   "name": "python3"
  },
  "language_info": {
   "codemirror_mode": {
    "name": "ipython",
    "version": 3
   },
   "file_extension": ".py",
   "mimetype": "text/x-python",
   "name": "python",
   "nbconvert_exporter": "python",
   "pygments_lexer": "ipython3",
   "version": "3.9.18"
  }
 },
 "nbformat": 4,
 "nbformat_minor": 5
}
