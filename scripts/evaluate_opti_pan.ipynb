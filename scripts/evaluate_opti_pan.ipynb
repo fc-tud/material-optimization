{
 "cells": [
  {
   "cell_type": "code",
   "execution_count": null,
   "id": "20260211-1ff7-498b-b597-eabc07745c43",
   "metadata": {},
   "outputs": [],
   "source": [
    "import sys\n",
    "sys.path.append('..')\n",
    "import src\n",
    "from src.optimization.result import Evaluation_Base, Evaluation\n",
    "import importlib\n",
    "importlib.reload(src.optimization.result)\n",
    "from src.models.sim_pan.SimPAN import SimPAN\n",
    "\n",
    "import os\n",
    "import pandas as pd\n",
    "import numpy as np\n",
    "import re\n",
    "import matplotlib.pyplot as plt\n",
    "import pickle\n",
    "#\n",
    "import matplotlib.pyplot as plt\n",
    "import plotly.graph_objects as go\n",
    "plt.rc('axes', axisbelow=True) # grid in background"
   ]
  },
  {
   "cell_type": "code",
   "execution_count": null,
   "id": "2c3f4c9c-624b-4d31-af1d-bc427cda1ab1",
   "metadata": {},
   "outputs": [],
   "source": [
    "WORKDIR = os.path.join('..', 'results' ,'optimization')\n",
    "USE_CASE = 'SIM-PAN-200' # 'SIM-PAN-50', 'SIM-PAN-opt'\n",
    "PLOT_DIR = os.path.join('..', 'results' ,'plots')\n",
    "sim=SimPAN(None, 'SimPAN')\n",
    "ML_MODEL = 'CatBoost'\n",
    "TASK_LIST = ['wca', 'q', 'sigma']\n",
    "OPTI = 'sigma'\n",
    "PARETO = 'descending'\n",
    "step_list = [200000, 100000, 50000, 5000]"
   ]
  },
  {
   "cell_type": "markdown",
   "id": "e0ac5366-8b44-4853-a74e-adc823f0344f",
   "metadata": {},
   "source": [
    "## Load all optimisation results"
   ]
  },
  {
   "cell_type": "code",
   "execution_count": null,
   "id": "e75acbd2-6f46-49e2-ac89-5209dbf5b4e4",
   "metadata": {},
   "outputs": [],
   "source": [
    "eval_base = Evaluation_Base(WORKDIR, USE_CASE, TASK_LIST)"
   ]
  },
  {
   "cell_type": "code",
   "execution_count": null,
   "id": "1c27405e-6a6a-4e19-9898-c637c037db13",
   "metadata": {},
   "outputs": [],
   "source": [
    "eval_base.get_results()\n",
    "#eval_base.get_steps_opti_results(step_list, ['SimPAN', 'autosklearn', 'CatBoost'])"
   ]
  },
  {
   "cell_type": "code",
   "execution_count": null,
   "id": "577b6fc2-296d-4060-a316-cf6582d02ff3",
   "metadata": {},
   "outputs": [],
   "source": [
    "eval_base.get_all_optima()\n",
    "#eval_base.load_database(ML_MODEL)\n",
    "eval_base.rename_opti_cols(sim.space)"
   ]
  },
  {
   "cell_type": "code",
   "execution_count": null,
   "id": "b71da9f7-e240-4df0-b0f8-1c9c57b5e892",
   "metadata": {},
   "outputs": [],
   "source": [
    "eval_base.df_opti = eval_base.df_opti.sort_values(by=['model_name', 'optimizer_name', 'max_opt_iter']).reset_index()\n",
    "eval_base.df_opti[['model_name', 'optimizer_name', 'max_opt_iter']].drop_duplicates()"
   ]
  },
  {
   "cell_type": "markdown",
   "id": "23f84f56-a8cc-4f0d-98cd-8a69b57586bd",
   "metadata": {},
   "source": [
    "## Evaluate a specific task"
   ]
  },
  {
   "cell_type": "code",
   "execution_count": null,
   "id": "a2c29eb7-e242-4eaa-ae02-d56370fc59be",
   "metadata": {},
   "outputs": [],
   "source": [
    "import importlib\n",
    "importlib.reload(src.optimization.result)\n",
    "from src.optimization.result import Evaluation_Base, Evaluation"
   ]
  },
  {
   "cell_type": "code",
   "execution_count": null,
   "id": "7545d77b-a98e-4271-a499-98b3ec928f5e",
   "metadata": {},
   "outputs": [],
   "source": [
    "task_constrains = {'con_wca': 160.0, 'con_sigma':'opti'}\n",
    "#opti_constrains = {'model_name': 'SimPAN'}\n",
    "#opti_dict = {'database':'grey', 'TPDE': '#6c65b5', 'NoisyDE': '#62cfac'}"
   ]
  },
  {
   "cell_type": "code",
   "execution_count": null,
   "id": "c1c9f180-50b8-4024-af87-45359385a0ab",
   "metadata": {},
   "outputs": [],
   "source": [
    "eval = Evaluation(eval_base, task_constrains=task_constrains, opti_constrains=None, pareto_ascending=False)\n",
    "eval.get_optimisation_task()"
   ]
  },
  {
   "cell_type": "markdown",
   "id": "42efc4a4-c6f5-4418-ba9e-5d6aee391b44",
   "metadata": {},
   "source": [
    "### Comparison Optimizers"
   ]
  },
  {
   "cell_type": "code",
   "execution_count": null,
   "id": "adf43b8b-f80c-46c7-9fa8-a33b844a20b2",
   "metadata": {},
   "outputs": [],
   "source": [
    "eval.group_results(['model_name', 'optimizer_name', 'max_opt_iter'])\n",
    "eval.get_opti_datapoints()\n",
    "eval.calc_error(task='task')\n",
    "eval.calc_cum_max_optimizer(cols=['y'])\n",
    "eval.calc_normalized_score(sim='task', cols=['y'])\n"
   ]
  },
  {
   "cell_type": "code",
   "execution_count": null,
   "id": "4df89ac6-e612-4721-9648-9521d97c39ea",
   "metadata": {},
   "outputs": [],
   "source": [
    "TARGET =  f'normed_opti_y'\n",
    "iter_list = step_list + [300000]\n",
    "MODEL = 'SimPAN'\n",
    "\n",
    "eval.calc_opti_score(cols=['y'], models=[MODEL])\n",
    "\n",
    "df_plot = pd.DataFrame()\n",
    "for optimizer in ['CMA', 'DE', 'PSO', 'RandomSearch']:\n",
    "    df_opt = pd.DataFrame()\n",
    "    for iter in iter_list:\n",
    "        df = eval.get_df(model_substrings = [MODEL], optimizer_substrings = [optimizer], max_iters = [iter])\n",
    "        if not df.empty:\n",
    "            df_opt[f'{iter}'] = df[TARGET].values\n",
    "    if not df_opt.empty:\n",
    "        df_opt['optimizer_name'] = optimizer   \n",
    "        df_plot = pd.concat([df_plot, df_opt], axis = 0, ignore_index=True)\n",
    "#df_plot.describe()"
   ]
  },
  {
   "cell_type": "code",
   "execution_count": null,
   "id": "000b39e8-b741-4705-8de6-c5523e69bccd",
   "metadata": {},
   "outputs": [],
   "source": [
    "#color_dict = {'300000':'#00305e', '200000': '#267599', '50000': '#574DC3', '10000':'#0f8bce', '5000': '#1FBF8C'}\n",
    "color_dict = {'300000':'#0d0887', '200000': '#7201a8', '100000': '#bd3786', '50000':'#ed7953', '5000': '#f5bc05'}\n",
    "fig_bar = eval.plot_summarize(df=df_plot, targets=[str(num) for num in iter_list] , group='optimizer_name', plot_dict=color_dict, print_error=False)\n",
    "fig_bar.update_layout(width=500, height=500)\n",
    "fig_bar.update_layout(yaxis_range=[-0.15,1.05])\n",
    "#fig_bar.write_image(os.path.join(PLOT_DIR, f\"box_plot_optimizers_{MODEL}.pdf\"))\n",
    "fig_bar.show()"
   ]
  },
  {
   "cell_type": "markdown",
   "id": "919b50dd-dd88-4a60-8e86-dd18da0d4a57",
   "metadata": {},
   "source": [
    "### Compare Models"
   ]
  },
  {
   "cell_type": "code",
   "execution_count": null,
   "id": "7a46fd6e-0cfc-48b0-b91e-9ad3e35f5b1f",
   "metadata": {},
   "outputs": [],
   "source": [
    "eval.group_results(['model_name', 'optimizer_name'])\n",
    "eval.get_opti_datapoints()\n",
    "eval.calc_error(task='task')\n",
    "\n",
    "eval.calc_cum_max()\n",
    "eval.calc_normalized_score(sim='task')"
   ]
  },
  {
   "cell_type": "code",
   "execution_count": null,
   "id": "f995be55-7def-4b9b-bb0e-7aed13d70c2c",
   "metadata": {},
   "outputs": [],
   "source": [
    "#eval.calc_cum_max(cols=['model_output_sigma'])\n",
    "#df_ml_models = eval.get_df(model_substrings = ['CatBoost', 'autosklearn', 'XGBoost', 'FFNN_mtl'], optimizer_substrings = ['CMA'])\n",
    "df_ml_models = eval.get_df(model_substrings = ['autosklearn'], optimizer_substrings = ['CMA'])\n",
    "df_ml_models = df_ml_models.fillna(0)\n",
    "df_sim = eval.get_df(model_substrings = ['Sim'], optimizer_substrings = ['CMA'])\n",
    "df_data = eval.get_df(model_substrings = ['data'])\n",
    "df_plot = pd.concat([df_ml_models, df_sim, df_data], axis=0, ignore_index=True)\n",
    "#df_plot= eval.get_df()"
   ]
  },
  {
   "cell_type": "code",
   "execution_count": null,
   "id": "bcb52b70-6537-481f-91e7-b0185ca7e076",
   "metadata": {},
   "outputs": [],
   "source": [
    "%%capture\n",
    "color_dict = {'database':'grey', 'CatBoost': '#6c65b5', 'autosklearn': '#62cfac', 'XGBoost':'#db7707','SimPAN': '#00305e'}\n",
    "fig = eval.plot_2d_pareto(df_plot, 'con_q', ['cummax_model_output_sigma', 'cummax_sim_output_sigma'], 'model_name', color_dict = color_dict)"
   ]
  },
  {
   "cell_type": "code",
   "execution_count": null,
   "id": "aba0df11-f04a-4a27-b4cd-f1a5db82110a",
   "metadata": {},
   "outputs": [],
   "source": [
    "from IPython.display import display\n",
    "ax = fig.get_axes()[0]\n",
    "ax.axhline(y=eval.base.database.sigma.max(), color='grey', linestyle='--', alpha=0.25)\n",
    "ax.axvline(x=eval.base.database.q.max(), color='grey', linestyle='--', alpha=0.25)\n",
    "ax.set(ylabel='Ultimate tension strength [MPa]')\n",
    "ax.set(xlabel='Oil sorption capacity [g/g]', xlim=(80, 200))\n",
    "#fig.subplots_adjust(right=0.75) \n",
    "ax.legend(loc='upper center', bbox_to_anchor=(0.5, 1.15), ncol=4)\n",
    "#fig.savefig(os.path.join(PLOT_DIR, f'pareto_front_{USE_CASE}_2.pdf'), bbox_inches='tight')\n",
    "display(fig)"
   ]
  },
  {
   "cell_type": "code",
   "execution_count": null,
   "id": "d9de54e7-2a9d-4f6b-932b-7aceb9a47273",
   "metadata": {},
   "outputs": [],
   "source": [
    "#df_ml_models = eval.get_df(model_substrings = ['CatBoost', 'autosklearn', 'XGBoost'], optimizer_substrings = ['CMA'])\n",
    "df_ml_models = df_ml_models.fillna(0)\n",
    "custom_order = ['autosklearn', 'CatBoost', 'XGBoost', 'FFNN_mtl']\n",
    "df_ml_models.sort_values(by=\"model_name\", key=lambda column: column.map(lambda e: custom_order.index(e)), inplace=True)\n",
    "\n",
    "\n",
    "fig_bar = eval.plot_summarize(df_ml_models, print_error=True)\n",
    "fig_bar.update_layout(width=250, height=700)\n",
    "fig_bar.update_layout(yaxis_range=[0,1.05])\n",
    "fig_bar.update_layout(yaxis = dict(dtick = 0.1))\n",
    "fig_bar.write_image(os.path.join(PLOT_DIR,  f\"box_plot_sim-model_{USE_CASE}.pdf\"))\n",
    "fig_bar.show()"
   ]
  },
  {
   "cell_type": "code",
   "execution_count": null,
   "id": "4b139a96-ccbf-4de0-aff2-30daa1901f62",
   "metadata": {},
   "outputs": [],
   "source": [
    "eval.scores"
   ]
  },
  {
   "cell_type": "markdown",
   "id": "28db4c5b-97a5-43ef-9db2-239ea491186a",
   "metadata": {},
   "source": [
    "# CMA vs Bayes over time"
   ]
  },
  {
   "cell_type": "code",
   "execution_count": null,
   "id": "a6818d7c-1203-4edd-b568-784160b835ba",
   "metadata": {},
   "outputs": [],
   "source": [
    "df_plot = pd.DataFrame()\n",
    "sim = eval_base.df_opti\n",
    "# loop over all tasks and all optimizers\n",
    "for result in eval_base.all_results:\n",
    "    con = result.task[1]\n",
    "    optimizer = result.optimizer_name\n",
    "    # get optima\n",
    "    max_value = sim[f'y'].loc[(sim[f'con_{eval.opti_x}']>=con)].clip(lower=0).max()\n",
    "    # calc cummax/min von res_0\n",
    "    df = result.df.copy()\n",
    "    min_time = df['time'].min()\n",
    "    df['time'] -= min_time\n",
    "    df['optimizer'] = optimizer\n",
    "    df['res_0'] = -df['res_0']\n",
    "    df['cummax_res_0'] = df['res_0'].cummax()\n",
    "    # calc normed performance of res_0 / optimum\n",
    "    df['normed_performance'] = df['cummax_res_0']/max_value\n",
    "    # create combined timestamp\n",
    "    # Create a new DataFrame with the desired time intervals\n",
    "    new_time = pd.DataFrame({'time': [float(x) for x in np.arange(0, int(df['time'].max()) + 1, 0.1)]})\n",
    "\n",
    "    # Merge the new_time DataFrame with the original DataFrame\n",
    "    df = pd.merge_asof(new_time, df, on='time', direction='backward')\n",
    "\n",
    "    #add to on df\n",
    "    df_plot = pd.concat([df_plot, df[['time', 'normed_performance', 'optimizer']]], axis=0)\n",
    "\n",
    "# combine with mean all tasks\n",
    "#df_plot.groupby(['time', 'normed_performance']).agg([np.mean, np.std])\n",
    "# plot mean over time for all optimizers\n"
   ]
  },
  {
   "cell_type": "code",
   "execution_count": null,
   "id": "e4b5cc60-23bc-4b6c-b95c-6d820697ccbd",
   "metadata": {},
   "outputs": [],
   "source": [
    "def percentile(n):\n",
    "    def percentile_(x):\n",
    "        return np.percentile(x, n)\n",
    "    percentile_.__name__ = 'percentile_%s' % n\n",
    "    return percentile_"
   ]
  },
  {
   "cell_type": "code",
   "execution_count": null,
   "id": "d7b3de36-1fb9-4dfd-96c1-f3a759c8dfa8",
   "metadata": {},
   "outputs": [],
   "source": [
    "df_plot = df_plot.groupby(by=['time', 'optimizer'], as_index=False).agg([np.mean, np.std, np.max, np.min, percentile(10), percentile(90)])\n",
    "df_plot = df_plot.reset_index()\n",
    "df_plot.columns = ['_'.join(col) if col[1] != '' else col[0] for col in df_plot.columns]\n",
    "df_plot"
   ]
  },
  {
   "cell_type": "code",
   "execution_count": null,
   "id": "2dde0f47-261b-4ddb-a7d6-aec5d52e002f",
   "metadata": {},
   "outputs": [],
   "source": [
    "import pandas as pd\n",
    "import plotly.express as px\n",
    "\n",
    "layout = go.Layout(yaxis=dict(title='Normed Performance', title_font={'size': 20}, tickfont={'size': 16},linecolor='black', gridcolor='#cccccc',\n",
    "                             zeroline=True, zerolinecolor='#cccccc', zerolinewidth=1),\n",
    "                   xaxis=dict(title='Time [s]', linecolor='black', title_font={'size': 20}, tickfont={'size': 16}, type='log'),\n",
    "                   plot_bgcolor='white',\n",
    "                   legend=dict(font_size=18, orientation=\"h\", yanchor=\"top\", y=1.1, xanchor='center', x=0.5)\n",
    ")\n",
    "\n",
    "box_plot_dict = {'CMA':{'line':'#00305e', 'fill':'rgba(0, 48, 94 ,0.2)'}, 'Bayes':{'line': '#62cfac', 'fill': 'rgba(98, 207, 172 ,0.2)'}}\n",
    "\n",
    "fig = go.Figure(layout=layout)\n",
    "\n",
    "for optimizer in df_plot.optimizer.unique():\n",
    "    fig.add_trace(go.Scatter(\n",
    "        x=df_plot['time'].loc[df_plot['optimizer']==optimizer],\n",
    "        y=df_plot['normed_performance_mean'].loc[df_plot['optimizer']==optimizer],\n",
    "        name=optimizer,\n",
    "        marker_color= box_plot_dict[optimizer]['line']\n",
    "    ))\n",
    "\n",
    "\n",
    "    # Adding shaded area for error\n",
    "    fig.add_trace(go.Scatter(\n",
    "        x=df_plot['time'].loc[df_plot['optimizer']==optimizer],\n",
    "        #y=df_plot['normed_performance_mean'].loc[df_plot['optimizer']==optimizer] + df_plot['normed_performance_std'].loc[df_plot['optimizer']==optimizer],\n",
    "        y=df_plot['normed_performance_percentile_10'].loc[df_plot['optimizer']==optimizer],\n",
    "        mode='lines',\n",
    "        line=dict(color='rgba(0,0,0,0)'),\n",
    "        showlegend=False\n",
    "    ))\n",
    "    fig.add_trace(go.Scatter(\n",
    "        x=df_plot['time'].loc[df_plot['optimizer']==optimizer],\n",
    "        #y=df_plot['normed_performance_mean'].loc[df_plot['optimizer']==optimizer] - df_plot['normed_performance_std'].loc[df_plot['optimizer']==optimizer],\n",
    "        y=df_plot['normed_performance_percentile_90'].loc[df_plot['optimizer']==optimizer],\n",
    "        mode='lines',\n",
    "        fill='tonexty',\n",
    "        fillcolor=box_plot_dict[optimizer]['fill'],\n",
    "        line=dict(color='rgba(0,0,0,0)'),\n",
    "        name=optimizer + ' error'\n",
    "    ))\n",
    "\n",
    "# Show the plot\n",
    "fig.update_layout(width=1000, height=700)\n",
    "fig.update_layout(yaxis_range=[0,1.05])\n",
    "fig.update_layout(xaxis_range=[0,4.32])\n",
    "fig.write_image(os.path.join(PLOT_DIR,  f\"CMA_vs_Bayes_{USE_CASE}.pdf\"))\n",
    "fig.show()"
   ]
  },
  {
   "cell_type": "code",
   "execution_count": null,
   "id": "fbe5bed8-f1ae-4002-9da0-fd5ee7d3706b",
   "metadata": {},
   "outputs": [],
   "source": []
  }
 ],
 "metadata": {
  "kernelspec": {
   "display_name": "Python 3 (ipykernel)",
   "language": "python",
   "name": "python3"
  },
  "language_info": {
   "codemirror_mode": {
    "name": "ipython",
    "version": 3
   },
   "file_extension": ".py",
   "mimetype": "text/x-python",
   "name": "python",
   "nbconvert_exporter": "python",
   "pygments_lexer": "ipython3",
   "version": "3.9.18"
  }
 },
 "nbformat": 4,
 "nbformat_minor": 5
}
