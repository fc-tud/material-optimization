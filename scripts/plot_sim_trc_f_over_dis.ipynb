{
 "cells": [
  {
   "cell_type": "code",
   "execution_count": null,
   "id": "4701fe7e-157d-42c5-9718-4c23eb0a7ddc",
   "metadata": {},
   "outputs": [],
   "source": [
    "import sys\n",
    "sys.path.append('..')\n",
    "from src.models.sim_trc.result import SimResult\n",
    "\n",
    "import os\n",
    "import pandas as pd\n",
    "import re\n",
    "import matplotlib.pyplot as plt\n",
    "import pickle"
   ]
  },
  {
   "cell_type": "code",
   "execution_count": null,
   "id": "47bd53da-3047-4e14-a813-55efcfc6c62d",
   "metadata": {},
   "outputs": [],
   "source": [
    "PATH = os.path.join('..', 'workdir', 'database', 'SIM-TRC')\n",
    "FOLDER = '<FolderName>'\n",
    "\n",
    "result_list = []\n",
    "# Filter out only subdirectories\n",
    "subfolders = [item for item in os.listdir(os.path.join(PATH, FOLDER)) if os.path.isdir(os.path.join(PATH, FOLDER, item))]\n",
    "def numeric_sort(item):\n",
    "    return int(item.split('_')[-1])\n",
    "\n",
    "subfolders = sorted(subfolders, key=numeric_sort)\n",
    "\n",
    "\n",
    "for sim_folder in subfolders:\n",
    "    print(sim_folder)\n",
    "    sim = SimResult(os.path.join(PATH, FOLDER, sim_folder))\n",
    "    sim.get_results()\n",
    "    sim.plot_force_over_time()\n",
    "    result_list.append(sim)"
   ]
  },
  {
   "cell_type": "code",
   "execution_count": null,
   "id": "b9b30df8",
   "metadata": {},
   "outputs": [],
   "source": [
    "SMALL_SIZE = 11\n",
    "MEDIUM_SIZE = 13\n",
    "BIGGER_SIZE = 18\n",
    "\n",
    "plt.rc('font', size=SMALL_SIZE)          # controls default text sizes\n",
    "plt.rc('axes', titlesize=SMALL_SIZE)     # fontsize of the axes title\n",
    "plt.rc('axes', labelsize=MEDIUM_SIZE)    # fontsize of the x and y labels\n",
    "plt.rc('xtick', labelsize=SMALL_SIZE)    # fontsize of the tick labels\n",
    "plt.rc('ytick', labelsize=SMALL_SIZE)    # fontsize of the tick labels\n",
    "plt.rc('legend', fontsize=MEDIUM_SIZE)    # legend fontsize\n",
    "plt.rc('figure', titlesize=BIGGER_SIZE)  # fontsize of the figure title\n",
    "\n",
    "result_list[0].plot_force_over_time(save_fig='sim_0_f_over_dis.pdf')"
   ]
  }
 ],
 "metadata": {
  "kernelspec": {
   "display_name": "Python 3 (ipykernel)",
   "language": "python",
   "name": "python3"
  },
  "language_info": {
   "codemirror_mode": {
    "name": "ipython",
    "version": 3
   },
   "file_extension": ".py",
   "mimetype": "text/x-python",
   "name": "python",
   "nbconvert_exporter": "python",
   "pygments_lexer": "ipython3",
   "version": "3.10.0"
  }
 },
 "nbformat": 4,
 "nbformat_minor": 5
}
